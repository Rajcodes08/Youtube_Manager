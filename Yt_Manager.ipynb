{
 "cells": [
  {
   "cell_type": "code",
   "execution_count": null,
   "id": "18ee9c64",
   "metadata": {},
   "outputs": [
    {
     "data": {
      "text/plain": [
       "[(0, 'Masala'), (1, 'Lemon'), (2, 'ginger')]"
      ]
     },
     "execution_count": 2,
     "metadata": {},
     "output_type": "execute_result"
    }
   ],
   "source": [
    "x = ('Masala','Lemon','ginger')\n",
    "y = enumerate(x)\n",
    "y\n",
    "list(y)\n",
    "#gives key value pairs"
   ]
  },
  {
   "cell_type": "code",
   "execution_count": null,
   "id": "c6eb1e16",
   "metadata": {},
   "outputs": [],
   "source": [
    "file = open('youtube.txt','w') \n",
    "\n",
    "try:\n",
    "    file.write('chai aur code') # M-1\n",
    "finally:\n",
    "    file.close()\n",
    "\n",
    "with open('youtube.txt','w') as file: # M-2\n",
    "    file.write('chai aur pythonc')    \n"
   ]
  },
  {
   "cell_type": "code",
   "execution_count": null,
   "id": "afbe7c68",
   "metadata": {},
   "outputs": [],
   "source": [
    "import json # string to json and vice-versa\n",
    "\n",
    "def load_data():\n",
    "    try:\n",
    "        with open('youtube.txt','r') as file:\n",
    "            test =  json.load(file)\n",
    "            #print(type (test))\n",
    "            return test    \n",
    "\n",
    "    except FileNotFoundError:\n",
    "        return []\n",
    "    #finally:\n",
    "        #pass\n",
    "\n",
    "def save_data_helper(videos):\n",
    "    with open('youtube.txt','w') as file:\n",
    "        json.dump(videos,file)\n",
    "\n",
    "def list_all_videos(videos):\n",
    "    print(\"\\n\")\n",
    "    print(\"*\" * 70)\n",
    "    for index, video in enumerate(videos, start=1): #for indexing problem\n",
    "        print(f\"{index}.{video['name']}, Duration: {video['time']} \")\n",
    "    print(\"\\n\") \n",
    "    print(\"*\" * 70)   \n",
    "\n",
    "def add_video(videos):\n",
    "    name = input(\"Enter video name: \")\n",
    "    time = input(\"Enter video time: \")\n",
    "    videos.append({'name': name, 'time': time}) \n",
    "    save_data_helper(videos)\n",
    "\n",
    "  #[{name:\"\"},{time: \"\"}]  \n",
    "def update_video(videos):\n",
    "    list_all_videos(videos)\n",
    "    index = int(input(\"Enter the video number to update\"))\n",
    "    if 1 <= index <= len(videos):\n",
    "        name = input(\"Enter the new video name: \")\n",
    "        time = input(\"Enter the new video time: \")\n",
    "        videos[index-1] = {'name': name,'time': time}\n",
    "        save_data_helper(videos)\n",
    "    else:\n",
    "        print(\"Invalid index selected\")    \n",
    "\n",
    "def delete_video(videos):\n",
    "    list_all_videos(videos)\n",
    "    index = int(input(\"Enter the video numbr to be deleted\"))\n",
    "    \n",
    "    if 1 <= index <= len(videos):\n",
    "        del videos[index-1]\n",
    "        save_data_helper(videos)\n",
    "    else:\n",
    "        print(\"Invalid index selected\")\n",
    "\n",
    "def main():\n",
    "\n",
    "    videos = load_data()\n",
    "\n",
    "    while True:\n",
    "        print(\"\\n Youtube Manager | choose an option\")\n",
    "        print(\"1. List all Youtube videos\")\n",
    "        print(\"2. Add a Youtube video\")\n",
    "        print(\"3. Update a Youtube video details\")\n",
    "        print(\"4. Delete a Youtube video\")\n",
    "        print(\"5. Exit the app\")\n",
    "        choice = input(\"Enter your choice:\")\n",
    "        #print(videos)\n",
    "\n",
    "        match choice:\n",
    "            case '1': \n",
    "                list_all_videos(videos)\n",
    "            case '2':\n",
    "                add_video(videos)    \n",
    "            case '3': \n",
    "                update_video(videos)\n",
    "            case '4':\n",
    "                delete_video(videos)\n",
    "            case '5':\n",
    "                break\n",
    "            case _:\n",
    "                print(\"Invalid Choice\")    \n",
    "\n",
    "if __name__ == \"__main__\":\n",
    "    main() #dundder\n",
    "\n",
    "        \n"
   ]
  }
 ],
 "metadata": {
  "kernelspec": {
   "display_name": "Python 3",
   "language": "python",
   "name": "python3"
  },
  "language_info": {
   "codemirror_mode": {
    "name": "ipython",
    "version": 3
   },
   "file_extension": ".py",
   "mimetype": "text/x-python",
   "name": "python",
   "nbconvert_exporter": "python",
   "pygments_lexer": "ipython3",
   "version": "3.12.3"
  }
 },
 "nbformat": 4,
 "nbformat_minor": 5
}
